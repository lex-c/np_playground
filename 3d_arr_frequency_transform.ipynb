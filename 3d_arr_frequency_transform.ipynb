{
 "cells": [
  {
   "cell_type": "code",
   "execution_count": 1,
   "metadata": {},
   "outputs": [],
   "source": [
    "import numpy as np\n",
    "import pandas as pd\n",
    "from math import pi\n",
    "from scipy.stats import pearsonr, spearmanr, kendalltau\n",
    "from mpl_toolkits.mplot3d import Axes3D\n",
    "import matplotlib.pyplot as plt"
   ]
  },
  {
   "cell_type": "code",
   "execution_count": null,
   "metadata": {},
   "outputs": [],
   "source": [
    "np.set_printoptions(edgeitems=10, threshold=500000)\n",
    "rng = np.random.default_rng(100)\n",
    "arr = rng.integers(1, 11, size=(10, 10, 50))\n",
    "split_arrs = np.split(arr, [n for n in range(1, arr.shape[2])], axis=2)\n",
    "split_arrs = np.reshape(split_arrs, (arr.shape[2], arr.shape[1], arr.shape[0]))\n",
    "split_arrs = split_arrs.transpose((0, 2, 1))\n",
    "for slice_idx in range(len(split_arrs)):\n",
    "    row_counts = [np.unique(row, return_counts=True) for row in split_arrs[slice_idx]]\n",
    "    for row_idx in range(len(split_arrs[slice_idx])):\n",
    "        idx_orig_uniq = np.searchsorted(row_counts[row_idx][0], split_arrs[slice_idx][row_idx])\n",
    "        for col_idx in range(len(split_arrs[slice_idx][row_idx])):\n",
    "            split_arrs[slice_idx][row_idx][col_idx] = row_counts[row_idx][1][idx_orig_uniq[col_idx]]\n",
    "split_arrs_t = np.transpose(split_arrs, (0, 2, 1))\n",
    "reconstructed_arr = np.stack(split_arrs_t, axis=2)\n",
    "fig = plt.figure()\n",
    "ax = fig.add_subplot(111, projection='3d')\n",
    "indices = np.where(arr)\n",
    "indices_t = np.vstack(indices).transpose((1,0))\n",
    "x_idcs = indices[0]\n",
    "y_idcs = indices[1]\n",
    "z_idcs = indices[2]\n",
    "z_val = reconstructed_arr[x_idcs, y_idcs, z_idcs]\n",
    "c = np.linspace(0, 1, num=4)\n",
    "c = reconstructed_arr\n",
    "ax.scatter(x_idcs, y_idcs, z_idcs, c=z_val, cmap='Spectral', s=3, label=z_val)\n",
    "plt.show()"
   ]
  }
 ],
 "metadata": {
  "kernelspec": {
   "display_name": "Python 3",
   "language": "python",
   "name": "python3"
  },
  "language_info": {
   "codemirror_mode": {
    "name": "ipython",
    "version": 3
   },
   "file_extension": ".py",
   "mimetype": "text/x-python",
   "name": "python",
   "nbconvert_exporter": "python",
   "pygments_lexer": "ipython3",
   "version": "3.8.5"
  }
 },
 "nbformat": 4,
 "nbformat_minor": 4
}
